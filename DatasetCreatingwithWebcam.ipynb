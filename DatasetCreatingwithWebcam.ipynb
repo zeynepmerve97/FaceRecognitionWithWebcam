{
  "nbformat": 4,
  "nbformat_minor": 0,
  "metadata": {
    "colab": {
      "name": "DatasetCreatingwithWebcam.ipynb",
      "provenance": [],
      "authorship_tag": "ABX9TyMbybWHIRDMRjfAjqcyXRw6",
      "include_colab_link": true
    },
    "kernelspec": {
      "name": "python3",
      "display_name": "Python 3"
    },
    "language_info": {
      "name": "python"
    }
  },
  "cells": [
    {
      "cell_type": "markdown",
      "metadata": {
        "id": "view-in-github",
        "colab_type": "text"
      },
      "source": [
        "<a href=\"https://colab.research.google.com/github/zeynepmerve97/FaceRecognitionWithWebcam/blob/main/DatasetCreatingwithWebcam.ipynb\" target=\"_parent\"><img src=\"https://colab.research.google.com/assets/colab-badge.svg\" alt=\"Open In Colab\"/></a>"
      ]
    },
    {
      "cell_type": "code",
      "metadata": {
        "id": "Y-eOaMM27XJA"
      },
      "source": [
        "import cv2\n",
        "import os\n",
        "\n",
        "cam = cv2.VideoCapture(0) \n",
        "\n",
        "\n",
        "face_detector = cv2.CascadeClassifier('haarcascade_frontalface_alt.xml')#xml dosyasını kullanılabilir hale getiriliyor\n",
        "\n",
        "# her insan için etiket oluşturmaya yarar.\n",
        "face_id = input('\\n Kamera başlatılıyor. Lütfen ismi girin..')\n",
        "\n",
        "print(\"\\n Görüntü yakalama başlatılıyor..\")\n",
        "      \n",
        "# alınan görüntü sayılarını almak için oluşturuldu.\n",
        "count = 0\n",
        "\n",
        "while(True):#sonsuz döngü\n",
        "    # son resmi okutuyoruz\n",
        "    ret, img = cam.read()\n",
        "    # video görüntüsünü dikey olarak çeviriyoruz\n",
        "    img = cv2.flip(img, 1)\n",
        "    #görüntü gri tonlamalarda oluyor\n",
        "    gray = cv2.cvtColor(img, cv2.COLOR_BGR2GRAY)\n",
        "    # görüntüde yüz bulmak için detectMultiScale fonksiyonunu kullanıyoruz.\n",
        "    faces = face_detector.detectMultiScale(gray, 1.3, 5)\n",
        "    \n",
        "    # her yüz için tespit yapıyor\n",
        "    for (x,y,w,h) in faces:\n",
        "        \n",
        "        #yüzün çevresine çerçeve yerleştiriyoruz.\n",
        "        cv2.rectangle(img, (x,y), (x+w,y+h), (255,0,0), 2)\n",
        "        \n",
        "        # her yakalanan görünü için 1 arttırma yapıyoruz.\n",
        "        count += 1\n",
        "\n",
        "        #bulunan yüzün olduğu kareyi siyah beyaz yapıyoruz.\n",
        "        gray = gray[y:y+h,x:x+w]\n",
        "        #dataset/test dosya yolu uzantısına yakalanan görüntüleri kaydediyoruz.\n",
        "        cv2.imwrite(\"dataset/test/\"+str(face_id) + '.' + str(count) + \".jpg\",gray )\n",
        "        #kamera çıktısını alıyoruz.\n",
        "        cv2.imshow('image', img)\n",
        "        \n",
        "    # çıkmak için escye basılcak\n",
        "    k = cv2.waitKey(100) & 0xff \n",
        "    if k == 27:\n",
        "        break\n",
        "    elif count >= 100: # 100 görüntü aldıktan sonra video durdurulacak\n",
        "         break\n",
        "\n",
        "\n",
        "print(\"\\n Program yürütme sona eriyor..\")\n",
        "#kamerayı kaparıyoruz\n",
        "cam.release()\n",
        "#tüm kodu sonlandırıyoruz\n",
        "cv2.destroyAllWindows()"
      ],
      "execution_count": null,
      "outputs": []
    },
    {
      "cell_type": "code",
      "metadata": {
        "id": "B3FV-11A9xkR"
      },
      "source": [
        ""
      ],
      "execution_count": null,
      "outputs": []
    }
  ]
}